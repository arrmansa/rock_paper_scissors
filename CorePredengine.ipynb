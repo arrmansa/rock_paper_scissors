{
 "cells": [
  {
   "cell_type": "code",
   "execution_count": 42,
   "id": "15b94898-b15c-46d0-8da8-48618fd71ed4",
   "metadata": {},
   "outputs": [],
   "source": [
    "import numpy as np\n",
    "from scipy.optimize import differential_evolution\n",
    "all_data = np.array(list(map(int, \"3\"*30 + \"012012102210212012010201021020101201202010202102210210201201202101201201201202012210\")))"
   ]
  },
  {
   "cell_type": "code",
   "execution_count": 43,
   "id": "43d3c951-d021-4a51-8afc-7f2edbd212fc",
   "metadata": {},
   "outputs": [],
   "source": [
    "from numba import jit"
   ]
  },
  {
   "cell_type": "code",
   "execution_count": 44,
   "id": "6b80d595-b82b-42cb-b373-3de3a387064b",
   "metadata": {},
   "outputs": [],
   "source": [
    "@jit\n",
    "def estimate(all_data, predrange, dist_decay, endweight, mult1, mult2):\n",
    "    match_weight = np.linspace(endweight, 1)\n",
    "    final_move, final_val = 0, 0\n",
    "    for movemult, predmove in ((1.0, 0), (mult1, 1), (mult2, 2)):\n",
    "        totalval = 0\n",
    "        for loc in np.where(all_data == predmove)[0]:\n",
    "            match = all_data[loc-predrange: loc] == all_data[-predrange:]\n",
    "            thisval = movemult * (dist_decay ** loc) * np.sum(match_weight[match])\n",
    "            totalval += thisval\n",
    "        if totalval > final_val:\n",
    "            final_move = predmove\n",
    "            final_val = totalval\n",
    "    return final_move\n",
    "\n",
    "def parameter_estimate(params, all_data):\n",
    "    dist_decay, endweight, mult1, mult2 = params\n",
    "    predrange = int(10)\n",
    "    return estimate(all_data, predrange, dist_decay, endweight, mult1, mult2)\n",
    "\n",
    "def metric(params, all_data):\n",
    "    good = 0\n",
    "    bad = 0\n",
    "    for i in range(1, 60):\n",
    "        pred = parameter_estimate(params, all_data[:-i])\n",
    "        if  pred == all_data[-i]:\n",
    "            good += 1\n",
    "        else:\n",
    "            bad += 1\n",
    "    return - good / (good + bad)"
   ]
  },
  {
   "cell_type": "code",
   "execution_count": 53,
   "id": "cc4c5e8a-3cb9-4f4f-a51d-badf5fa07644",
   "metadata": {},
   "outputs": [
    {
     "data": {
      "text/plain": [
       "array([0.74686628, 0.14186128, 0.71715571, 0.2113299 ])"
      ]
     },
     "execution_count": 53,
     "metadata": {},
     "output_type": "execute_result"
    }
   ],
   "source": [
    "differential_evolution(metric, [(0.5, 1.0), (0.0, 1.0), (0.0, 2.0), (0.0, 2.0)], tol=0.05, polish=False, args = (all_data,), x0= [0.9, 0.5, 1.0, 1.0]).x"
   ]
  },
  {
   "cell_type": "code",
   "execution_count": 46,
   "id": "66d9afdb-5e36-41b9-ba9b-74546b70cf25",
   "metadata": {},
   "outputs": [
    {
     "data": {
      "text/plain": [
       "[3.882, 0.9384, 0.8835, 0.905, 0.7737]"
      ]
     },
     "execution_count": 46,
     "metadata": {},
     "output_type": "execute_result"
    }
   ],
   "source": [
    "[3.882e+00,9.384e-01,8.835e-01,9.050e-01,7.737e-01]"
   ]
  },
  {
   "cell_type": "code",
   "execution_count": null,
   "id": "b1a92955-d531-4640-a5a0-cbde2c92dc82",
   "metadata": {},
   "outputs": [],
   "source": []
  }
 ],
 "metadata": {
  "kernelspec": {
   "display_name": "Python 3 (ipykernel)",
   "language": "python",
   "name": "python3"
  },
  "language_info": {
   "codemirror_mode": {
    "name": "ipython",
    "version": 3
   },
   "file_extension": ".py",
   "mimetype": "text/x-python",
   "name": "python",
   "nbconvert_exporter": "python",
   "pygments_lexer": "ipython3",
   "version": "3.11.9"
  }
 },
 "nbformat": 4,
 "nbformat_minor": 5
}
